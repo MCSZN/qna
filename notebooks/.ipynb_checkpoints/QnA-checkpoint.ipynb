{
 "cells": [
  {
   "cell_type": "code",
   "execution_count": 44,
   "metadata": {},
   "outputs": [],
   "source": [
    "import json\n",
    "import time\n",
    "\n",
    "import pandas as pd\n",
    "import numpy as np\n",
    "from tqdm import tqdm\n",
    "\n",
    "from pprint import pprint\n",
    "from flair.data import Sentence"
   ]
  },
  {
   "cell_type": "code",
   "execution_count": 2,
   "metadata": {},
   "outputs": [],
   "source": [
    "with open('../data/teach_data/data.json', 'r') as f:\n",
    "    data = json.load(f)"
   ]
  },
  {
   "cell_type": "code",
   "execution_count": 31,
   "metadata": {},
   "outputs": [
    {
     "name": "stdout",
     "output_type": "stream",
     "text": [
      "{'auteur_crc': '865612499',\n",
      " 'category': '136',\n",
      " 'country': 'IN',\n",
      " 'date': '1234889592',\n",
      " 'id': '69561',\n",
      " 'is_best_answer': '0',\n",
      " 'is_solved': '1',\n",
      " 'last_answer_date': '1306387514',\n",
      " 'member': '0',\n",
      " 'message': '<a '\n",
      "            \"href='http://paparadit.blogspot.com/2007/06/installing-sata-hard-drive-with-windows.html' \"\n",
      "            \"target='_blank' rel='nofollow noopener \"\n",
      "            \"noreferrer'>http://paparadit.blogspot.com/2007/06/installing-sata-hard-drive-with-windows.html</a>\",\n",
      " 'num_answers': '180',\n",
      " 'parent_id': '36102',\n",
      " 'question_answer_or_comment': 'C',\n",
      " 'state': '0',\n",
      " 'titre': 'Windows Vista to XP Downgrading/Reformat?',\n",
      " 'topic_id': '4',\n",
      " 'visits': '4',\n",
      " 'votes': '0'}\n"
     ]
    }
   ],
   "source": [
    "pprint(data['0'])"
   ]
  },
  {
   "cell_type": "code",
   "execution_count": 39,
   "metadata": {},
   "outputs": [],
   "source": [
    "def checker(dictionnary, field, possibilities):\n",
    "    temp = dictionnary\n",
    "    to_delete = []\n",
    "    for key,val in temp.items():\n",
    "        if val[field] not in possibilities:\n",
    "            print(field,': ',val[field])\n",
    "            to_delete.append(key)\n",
    "    for key in to_delete:\n",
    "        del temp[key]\n",
    "    return temp\n",
    "\n",
    "def delete(dictionnary):\n",
    "    temp = dictionnary\n",
    "    to_delete = []\n",
    "    for key,val in temp.items():\n",
    "        try:\n",
    "            int(val['auteur_crc'])\n",
    "            int(val['category'])\n",
    "            int(val['date'])\n",
    "            int(val['id'])\n",
    "            int(val['last_answer_date'])\n",
    "            int(val['member'])\n",
    "            int(val['num_answers'])\n",
    "            int(val['parent_id'])\n",
    "            int(val['topic_id'])\n",
    "            int(val['visits'])\n",
    "            int(val['votes'])\n",
    "        except:\n",
    "            to_delete.append(key)\n",
    "    for key in to_delete:\n",
    "        del temp[key]\n",
    "    return temp"
   ]
  },
  {
   "cell_type": "code",
   "execution_count": null,
   "metadata": {},
   "outputs": [],
   "source": [
    "data = checker(data, 'question_answer_or_comment', ['C','A','Q'])\n",
    "data = checker(data, 'is_best_answer', ['0', '1'])\n",
    "data = checker(data, 'is_solved', ['0', '1'])\n",
    "data = checker(data, 'state', ['0', '1', '2'])\n",
    "\n",
    "data = delete(data)"
   ]
  },
  {
   "cell_type": "code",
   "execution_count": 49,
   "metadata": {},
   "outputs": [
    {
     "data": {
      "text/plain": [
       "Sentence: \"<a href='http://paparadit.blogspot.com/2007/06/installing-sata-hard-drive-with-windows.html' target='_blank' rel='nofollow noopener noreferrer'>http://paparadit.blogspot.com/2007/06/installing-sata-hard-drive-with-windows.html</a>\" - 6 Tokens"
      ]
     },
     "execution_count": 49,
     "metadata": {},
     "output_type": "execute_result"
    }
   ],
   "source": [
    "Sentence(data['0']['message'])"
   ]
  }
 ],
 "metadata": {
  "kernelspec": {
   "display_name": "Python 3",
   "language": "python",
   "name": "python3"
  },
  "language_info": {
   "codemirror_mode": {
    "name": "ipython",
    "version": 3
   },
   "file_extension": ".py",
   "mimetype": "text/x-python",
   "name": "python",
   "nbconvert_exporter": "python",
   "pygments_lexer": "ipython3",
   "version": "3.6.8"
  }
 },
 "nbformat": 4,
 "nbformat_minor": 2
}
