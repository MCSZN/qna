{
 "cells": [
  {
   "cell_type": "code",
   "execution_count": 4,
   "metadata": {},
   "outputs": [
    {
     "data": {
      "text/plain": [
       "<Figure size 1100x400 with 1 Axes>"
      ]
     },
     "metadata": {},
     "output_type": "display_data"
    }
   ],
   "source": [
    "import json\n",
    "with open(\"../../results/results.json\", 'r') as f:\n",
    "    results = json.load(f)\n",
    "\n",
    "    \n",
    "from matplotlib import pyplot as plt\n",
    "\n",
    "trg_0 = [val[1] for val in results.values() if val[0]==0]\n",
    "trg_1 = [val[1] for val in results.values() if val[0]==1]\n",
    "\n",
    "plt.figure(figsize=(11,4))\n",
    "plt.plot(trg_0, label=\"trg_0\")\n",
    "plt.plot(trg_1, label=\"trg_1\")\n",
    "plt.title('Evolution of loss during training')\n",
    "plt.ylabel('Loss')\n",
    "plt.legend()\n",
    "plt.show()"
   ]
  },
  {
   "cell_type": "code",
   "execution_count": null,
   "metadata": {},
   "outputs": [],
   "source": []
  }
 ],
 "metadata": {
  "kernelspec": {
   "display_name": "Python 3",
   "language": "python",
   "name": "python3"
  },
  "language_info": {
   "codemirror_mode": {
    "name": "ipython",
    "version": 3
   },
   "file_extension": ".py",
   "mimetype": "text/x-python",
   "name": "python",
   "nbconvert_exporter": "python",
   "pygments_lexer": "ipython3",
   "version": "3.6.8"
  }
 },
 "nbformat": 4,
 "nbformat_minor": 2
}
